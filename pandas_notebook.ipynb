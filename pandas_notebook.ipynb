{
 "cells": [
  {
   "cell_type": "code",
   "execution_count": 2,
   "id": "initial_id",
   "metadata": {
    "ExecuteTime": {
     "end_time": "2024-02-20T18:18:02.693064Z",
     "start_time": "2024-02-20T18:18:02.567755Z"
    },
    "collapsed": true,
    "jupyter": {
     "outputs_hidden": true
    }
   },
   "outputs": [],
   "source": [
    "import pandas as pd"
   ]
  },
  {
   "cell_type": "markdown",
   "id": "7ecb38c1a80d01d3",
   "metadata": {
    "collapsed": false
   },
   "source": [
    "# 1. Load the data"
   ]
  },
  {
   "cell_type": "code",
   "execution_count": 173,
   "id": "2d156e424bd2ed50",
   "metadata": {
    "ExecuteTime": {
     "end_time": "2024-02-20T18:18:16.910476Z",
     "start_time": "2024-02-20T18:18:16.905491Z"
    },
    "collapsed": false
   },
   "outputs": [],
   "source": [
    "df = pd.read_csv('restaurant_review.csv')"
   ]
  },
  {
   "cell_type": "markdown",
   "id": "d9d805e5b6eb7535",
   "metadata": {
    "collapsed": false
   },
   "source": [
    "# 2. Display the first 10 rows of the dataframe"
   ]
  },
  {
   "cell_type": "code",
   "execution_count": 150,
   "id": "2396aeaed3c36a49",
   "metadata": {
    "ExecuteTime": {
     "end_time": "2024-02-20T18:18:18.525139Z",
     "start_time": "2024-02-20T18:18:18.472827Z"
    },
    "collapsed": false
   },
   "outputs": [
    {
     "data": {
      "text/html": [
       "<div>\n",
       "<style scoped>\n",
       "    .dataframe tbody tr th:only-of-type {\n",
       "        vertical-align: middle;\n",
       "    }\n",
       "\n",
       "    .dataframe tbody tr th {\n",
       "        vertical-align: top;\n",
       "    }\n",
       "\n",
       "    .dataframe thead th {\n",
       "        text-align: right;\n",
       "    }\n",
       "</style>\n",
       "<table border=\"1\" class=\"dataframe\">\n",
       "  <thead>\n",
       "    <tr style=\"text-align: right;\">\n",
       "      <th></th>\n",
       "      <th>id</th>\n",
       "      <th>name</th>\n",
       "      <th>reviewer_name</th>\n",
       "      <th>review_text</th>\n",
       "      <th>rating</th>\n",
       "      <th>last_visit_date</th>\n",
       "      <th>city</th>\n",
       "    </tr>\n",
       "  </thead>\n",
       "  <tbody>\n",
       "    <tr>\n",
       "      <th>0</th>\n",
       "      <td>0</td>\n",
       "      <td>Жаліло Данильчук and Копитко</td>\n",
       "      <td>Дарина</td>\n",
       "      <td>Груди салон єврейський робочий розвернутися. П...</td>\n",
       "      <td>14</td>\n",
       "      <td>NaN</td>\n",
       "      <td>Гребінка</td>\n",
       "    </tr>\n",
       "    <tr>\n",
       "      <th>1</th>\n",
       "      <td>1</td>\n",
       "      <td>Ярема Зінкевич and Медведенко</td>\n",
       "      <td>Ярина</td>\n",
       "      <td>Важкий знаходити простір взагалі перебивати по...</td>\n",
       "      <td>8</td>\n",
       "      <td>NaN</td>\n",
       "      <td>Корсунь-Шевченківський</td>\n",
       "    </tr>\n",
       "    <tr>\n",
       "      <th>2</th>\n",
       "      <td>2</td>\n",
       "      <td>Вдовиченко Group</td>\n",
       "      <td>Руслан</td>\n",
       "      <td>Зрозумілий здригнутися матерія в'язниця констр...</td>\n",
       "      <td>17</td>\n",
       "      <td>NaN</td>\n",
       "      <td>Ананьїв</td>\n",
       "    </tr>\n",
       "    <tr>\n",
       "      <th>3</th>\n",
       "      <td>3</td>\n",
       "      <td>Василенко-Онуфрієнко</td>\n",
       "      <td>Демʼян</td>\n",
       "      <td>Пропадати термін прохід грати багряний художні...</td>\n",
       "      <td>13</td>\n",
       "      <td>NaN</td>\n",
       "      <td>Таврійськ</td>\n",
       "    </tr>\n",
       "    <tr>\n",
       "      <th>4</th>\n",
       "      <td>4</td>\n",
       "      <td>Бабенко LLC</td>\n",
       "      <td>Ганна</td>\n",
       "      <td>Байдужий заява болісно пити. Чітко зміна полюб...</td>\n",
       "      <td>11</td>\n",
       "      <td>NaN</td>\n",
       "      <td>Залізне</td>\n",
       "    </tr>\n",
       "    <tr>\n",
       "      <th>5</th>\n",
       "      <td>5</td>\n",
       "      <td>Демʼянчук Гузенко and Голик</td>\n",
       "      <td>Анастасія</td>\n",
       "      <td>Конструкція взагалі так угодний вмирати вовк п...</td>\n",
       "      <td>18</td>\n",
       "      <td>NaN</td>\n",
       "      <td>Угнів</td>\n",
       "    </tr>\n",
       "    <tr>\n",
       "      <th>6</th>\n",
       "      <td>6</td>\n",
       "      <td>Дробаха-Шелест</td>\n",
       "      <td>Камілла</td>\n",
       "      <td>Виникнення пропадати за житель полум'я трубка ...</td>\n",
       "      <td>12</td>\n",
       "      <td>NaN</td>\n",
       "      <td>Почаїв</td>\n",
       "    </tr>\n",
       "    <tr>\n",
       "      <th>7</th>\n",
       "      <td>7</td>\n",
       "      <td>Карась Ltd</td>\n",
       "      <td>Світлана</td>\n",
       "      <td>Ставити ремінь кордон гроші викинути. Рішення ...</td>\n",
       "      <td>18</td>\n",
       "      <td>NaN</td>\n",
       "      <td>Заставна</td>\n",
       "    </tr>\n",
       "    <tr>\n",
       "      <th>8</th>\n",
       "      <td>8</td>\n",
       "      <td>Єсипенко Деряжний and Дерегус</td>\n",
       "      <td>Анастасія</td>\n",
       "      <td>Здригнутися виблискувати співрозмовник підлога...</td>\n",
       "      <td>11</td>\n",
       "      <td>NaN</td>\n",
       "      <td>Новий Розділ</td>\n",
       "    </tr>\n",
       "    <tr>\n",
       "      <th>9</th>\n",
       "      <td>9</td>\n",
       "      <td>Ребрик-Дейнеко</td>\n",
       "      <td>Анжела</td>\n",
       "      <td>Жити засунути природа важливий витримати ділов...</td>\n",
       "      <td>17</td>\n",
       "      <td>NaN</td>\n",
       "      <td>Липовець</td>\n",
       "    </tr>\n",
       "  </tbody>\n",
       "</table>\n",
       "</div>"
      ],
      "text/plain": [
       "   id                           name reviewer_name  \\\n",
       "0   0   Жаліло Данильчук and Копитко        Дарина   \n",
       "1   1  Ярема Зінкевич and Медведенко         Ярина   \n",
       "2   2               Вдовиченко Group        Руслан   \n",
       "3   3           Василенко-Онуфрієнко        Демʼян   \n",
       "4   4                    Бабенко LLC         Ганна   \n",
       "5   5    Демʼянчук Гузенко and Голик     Анастасія   \n",
       "6   6                 Дробаха-Шелест       Камілла   \n",
       "7   7                     Карась Ltd      Світлана   \n",
       "8   8  Єсипенко Деряжний and Дерегус     Анастасія   \n",
       "9   9                 Ребрик-Дейнеко        Анжела   \n",
       "\n",
       "                                         review_text  rating last_visit_date  \\\n",
       "0  Груди салон єврейський робочий розвернутися. П...      14             NaN   \n",
       "1  Важкий знаходити простір взагалі перебивати по...       8             NaN   \n",
       "2  Зрозумілий здригнутися матерія в'язниця констр...      17             NaN   \n",
       "3  Пропадати термін прохід грати багряний художні...      13             NaN   \n",
       "4  Байдужий заява болісно пити. Чітко зміна полюб...      11             NaN   \n",
       "5  Конструкція взагалі так угодний вмирати вовк п...      18             NaN   \n",
       "6  Виникнення пропадати за житель полум'я трубка ...      12             NaN   \n",
       "7  Ставити ремінь кордон гроші викинути. Рішення ...      18             NaN   \n",
       "8  Здригнутися виблискувати співрозмовник підлога...      11             NaN   \n",
       "9  Жити засунути природа важливий витримати ділов...      17             NaN   \n",
       "\n",
       "                     city  \n",
       "0                Гребінка  \n",
       "1  Корсунь-Шевченківський  \n",
       "2                 Ананьїв  \n",
       "3               Таврійськ  \n",
       "4                 Залізне  \n",
       "5                   Угнів  \n",
       "6                  Почаїв  \n",
       "7                Заставна  \n",
       "8            Новий Розділ  \n",
       "9                Липовець  "
      ]
     },
     "execution_count": 150,
     "metadata": {},
     "output_type": "execute_result"
    }
   ],
   "source": [
    "df.head(10)"
   ]
  },
  {
   "cell_type": "markdown",
   "id": "97694a31",
   "metadata": {},
   "source": [
    "# 3. Data Cleaning "
   ]
  },
  {
   "cell_type": "code",
   "execution_count": 178,
   "id": "454eaae08ae153c4",
   "metadata": {
    "ExecuteTime": {
     "end_time": "2024-02-20T18:19:33.910275Z",
     "start_time": "2024-02-20T18:19:33.905040Z"
    },
    "collapsed": false
   },
   "outputs": [
    {
     "data": {
      "text/plain": [
       "id                   0\n",
       "name                 0\n",
       "reviewer_name        0\n",
       "review_text          0\n",
       "rating               0\n",
       "last_visit_date    379\n",
       "city                 0\n",
       "dtype: int64"
      ]
     },
     "execution_count": 178,
     "metadata": {},
     "output_type": "execute_result"
    }
   ],
   "source": [
    "\n",
    "df.isnull().sum()"
   ]
  },
  {
   "cell_type": "code",
   "execution_count": 152,
   "id": "5dda5c7bb3fe1898",
   "metadata": {
    "collapsed": false
   },
   "outputs": [
    {
     "data": {
      "text/html": [
       "<div>\n",
       "<style scoped>\n",
       "    .dataframe tbody tr th:only-of-type {\n",
       "        vertical-align: middle;\n",
       "    }\n",
       "\n",
       "    .dataframe tbody tr th {\n",
       "        vertical-align: top;\n",
       "    }\n",
       "\n",
       "    .dataframe thead th {\n",
       "        text-align: right;\n",
       "    }\n",
       "</style>\n",
       "<table border=\"1\" class=\"dataframe\">\n",
       "  <thead>\n",
       "    <tr style=\"text-align: right;\">\n",
       "      <th></th>\n",
       "      <th>id</th>\n",
       "      <th>name</th>\n",
       "      <th>reviewer_name</th>\n",
       "      <th>review_text</th>\n",
       "      <th>rating</th>\n",
       "      <th>last_visit_date</th>\n",
       "      <th>city</th>\n",
       "    </tr>\n",
       "  </thead>\n",
       "  <tbody>\n",
       "    <tr>\n",
       "      <th>0</th>\n",
       "      <td>0</td>\n",
       "      <td>Жаліло Данильчук and Копитко</td>\n",
       "      <td>Дарина</td>\n",
       "      <td>Груди салон єврейський робочий розвернутися. П...</td>\n",
       "      <td>5</td>\n",
       "      <td>NaN</td>\n",
       "      <td>Гребінка</td>\n",
       "    </tr>\n",
       "    <tr>\n",
       "      <th>1</th>\n",
       "      <td>1</td>\n",
       "      <td>Ярема Зінкевич and Медведенко</td>\n",
       "      <td>Ярина</td>\n",
       "      <td>Важкий знаходити простір взагалі перебивати по...</td>\n",
       "      <td>5</td>\n",
       "      <td>NaN</td>\n",
       "      <td>Корсунь-Шевченківський</td>\n",
       "    </tr>\n",
       "    <tr>\n",
       "      <th>2</th>\n",
       "      <td>2</td>\n",
       "      <td>Вдовиченко Group</td>\n",
       "      <td>Руслан</td>\n",
       "      <td>Зрозумілий здригнутися матерія в'язниця констр...</td>\n",
       "      <td>5</td>\n",
       "      <td>NaN</td>\n",
       "      <td>Ананьїв</td>\n",
       "    </tr>\n",
       "    <tr>\n",
       "      <th>3</th>\n",
       "      <td>3</td>\n",
       "      <td>Василенко-Онуфрієнко</td>\n",
       "      <td>Демʼян</td>\n",
       "      <td>Пропадати термін прохід грати багряний художні...</td>\n",
       "      <td>5</td>\n",
       "      <td>NaN</td>\n",
       "      <td>Таврійськ</td>\n",
       "    </tr>\n",
       "    <tr>\n",
       "      <th>4</th>\n",
       "      <td>4</td>\n",
       "      <td>Бабенко LLC</td>\n",
       "      <td>Ганна</td>\n",
       "      <td>Байдужий заява болісно пити. Чітко зміна полюб...</td>\n",
       "      <td>5</td>\n",
       "      <td>NaN</td>\n",
       "      <td>Залізне</td>\n",
       "    </tr>\n",
       "    <tr>\n",
       "      <th>5</th>\n",
       "      <td>5</td>\n",
       "      <td>Демʼянчук Гузенко and Голик</td>\n",
       "      <td>Анастасія</td>\n",
       "      <td>Конструкція взагалі так угодний вмирати вовк п...</td>\n",
       "      <td>5</td>\n",
       "      <td>NaN</td>\n",
       "      <td>Угнів</td>\n",
       "    </tr>\n",
       "    <tr>\n",
       "      <th>6</th>\n",
       "      <td>6</td>\n",
       "      <td>Дробаха-Шелест</td>\n",
       "      <td>Камілла</td>\n",
       "      <td>Виникнення пропадати за житель полум'я трубка ...</td>\n",
       "      <td>5</td>\n",
       "      <td>NaN</td>\n",
       "      <td>Почаїв</td>\n",
       "    </tr>\n",
       "    <tr>\n",
       "      <th>7</th>\n",
       "      <td>7</td>\n",
       "      <td>Карась Ltd</td>\n",
       "      <td>Світлана</td>\n",
       "      <td>Ставити ремінь кордон гроші викинути. Рішення ...</td>\n",
       "      <td>5</td>\n",
       "      <td>NaN</td>\n",
       "      <td>Заставна</td>\n",
       "    </tr>\n",
       "    <tr>\n",
       "      <th>8</th>\n",
       "      <td>8</td>\n",
       "      <td>Єсипенко Деряжний and Дерегус</td>\n",
       "      <td>Анастасія</td>\n",
       "      <td>Здригнутися виблискувати співрозмовник підлога...</td>\n",
       "      <td>5</td>\n",
       "      <td>NaN</td>\n",
       "      <td>Новий Розділ</td>\n",
       "    </tr>\n",
       "    <tr>\n",
       "      <th>9</th>\n",
       "      <td>9</td>\n",
       "      <td>Ребрик-Дейнеко</td>\n",
       "      <td>Анжела</td>\n",
       "      <td>Жити засунути природа важливий витримати ділов...</td>\n",
       "      <td>5</td>\n",
       "      <td>NaN</td>\n",
       "      <td>Липовець</td>\n",
       "    </tr>\n",
       "  </tbody>\n",
       "</table>\n",
       "</div>"
      ],
      "text/plain": [
       "   id                           name reviewer_name  \\\n",
       "0   0   Жаліло Данильчук and Копитко        Дарина   \n",
       "1   1  Ярема Зінкевич and Медведенко         Ярина   \n",
       "2   2               Вдовиченко Group        Руслан   \n",
       "3   3           Василенко-Онуфрієнко        Демʼян   \n",
       "4   4                    Бабенко LLC         Ганна   \n",
       "5   5    Демʼянчук Гузенко and Голик     Анастасія   \n",
       "6   6                 Дробаха-Шелест       Камілла   \n",
       "7   7                     Карась Ltd      Світлана   \n",
       "8   8  Єсипенко Деряжний and Дерегус     Анастасія   \n",
       "9   9                 Ребрик-Дейнеко        Анжела   \n",
       "\n",
       "                                         review_text  rating last_visit_date  \\\n",
       "0  Груди салон єврейський робочий розвернутися. П...       5             NaN   \n",
       "1  Важкий знаходити простір взагалі перебивати по...       5             NaN   \n",
       "2  Зрозумілий здригнутися матерія в'язниця констр...       5             NaN   \n",
       "3  Пропадати термін прохід грати багряний художні...       5             NaN   \n",
       "4  Байдужий заява болісно пити. Чітко зміна полюб...       5             NaN   \n",
       "5  Конструкція взагалі так угодний вмирати вовк п...       5             NaN   \n",
       "6  Виникнення пропадати за житель полум'я трубка ...       5             NaN   \n",
       "7  Ставити ремінь кордон гроші викинути. Рішення ...       5             NaN   \n",
       "8  Здригнутися виблискувати співрозмовник підлога...       5             NaN   \n",
       "9  Жити засунути природа важливий витримати ділов...       5             NaN   \n",
       "\n",
       "                     city  \n",
       "0                Гребінка  \n",
       "1  Корсунь-Шевченківський  \n",
       "2                 Ананьїв  \n",
       "3               Таврійськ  \n",
       "4                 Залізне  \n",
       "5                   Угнів  \n",
       "6                  Почаїв  \n",
       "7                Заставна  \n",
       "8            Новий Розділ  \n",
       "9                Липовець  "
      ]
     },
     "execution_count": 152,
     "metadata": {},
     "output_type": "execute_result"
    }
   ],
   "source": [
    "\n",
    "df['rating'] = df['rating'].clip(lower=1, upper=5)\n",
    "df.head(10)"
   ]
  },
  {
   "cell_type": "markdown",
   "id": "8442a7ea",
   "metadata": {},
   "source": [
    "# 4. Feature Engineering"
   ]
  },
  {
   "cell_type": "code",
   "execution_count": 153,
   "id": "ea8ce51cc5cffac5",
   "metadata": {
    "ExecuteTime": {
     "end_time": "2024-02-20T18:21:03.338943Z",
     "start_time": "2024-02-20T18:21:03.331701Z"
    },
    "collapsed": false
   },
   "outputs": [
    {
     "data": {
      "text/html": [
       "<div>\n",
       "<style scoped>\n",
       "    .dataframe tbody tr th:only-of-type {\n",
       "        vertical-align: middle;\n",
       "    }\n",
       "\n",
       "    .dataframe tbody tr th {\n",
       "        vertical-align: top;\n",
       "    }\n",
       "\n",
       "    .dataframe thead th {\n",
       "        text-align: right;\n",
       "    }\n",
       "</style>\n",
       "<table border=\"1\" class=\"dataframe\">\n",
       "  <thead>\n",
       "    <tr style=\"text-align: right;\">\n",
       "      <th></th>\n",
       "      <th>id</th>\n",
       "      <th>name</th>\n",
       "      <th>reviewer_name</th>\n",
       "      <th>review_text</th>\n",
       "      <th>rating</th>\n",
       "      <th>last_visit_date</th>\n",
       "      <th>city</th>\n",
       "      <th>review_length</th>\n",
       "    </tr>\n",
       "  </thead>\n",
       "  <tbody>\n",
       "    <tr>\n",
       "      <th>0</th>\n",
       "      <td>0</td>\n",
       "      <td>Жаліло Данильчук and Копитко</td>\n",
       "      <td>Дарина</td>\n",
       "      <td>Груди салон єврейський робочий розвернутися. П...</td>\n",
       "      <td>5</td>\n",
       "      <td>NaN</td>\n",
       "      <td>Гребінка</td>\n",
       "      <td>16</td>\n",
       "    </tr>\n",
       "    <tr>\n",
       "      <th>1</th>\n",
       "      <td>1</td>\n",
       "      <td>Ярема Зінкевич and Медведенко</td>\n",
       "      <td>Ярина</td>\n",
       "      <td>Важкий знаходити простір взагалі перебивати по...</td>\n",
       "      <td>5</td>\n",
       "      <td>NaN</td>\n",
       "      <td>Корсунь-Шевченківський</td>\n",
       "      <td>16</td>\n",
       "    </tr>\n",
       "    <tr>\n",
       "      <th>2</th>\n",
       "      <td>2</td>\n",
       "      <td>Вдовиченко Group</td>\n",
       "      <td>Руслан</td>\n",
       "      <td>Зрозумілий здригнутися матерія в'язниця констр...</td>\n",
       "      <td>5</td>\n",
       "      <td>NaN</td>\n",
       "      <td>Ананьїв</td>\n",
       "      <td>13</td>\n",
       "    </tr>\n",
       "    <tr>\n",
       "      <th>3</th>\n",
       "      <td>3</td>\n",
       "      <td>Василенко-Онуфрієнко</td>\n",
       "      <td>Демʼян</td>\n",
       "      <td>Пропадати термін прохід грати багряний художні...</td>\n",
       "      <td>5</td>\n",
       "      <td>NaN</td>\n",
       "      <td>Таврійськ</td>\n",
       "      <td>25</td>\n",
       "    </tr>\n",
       "    <tr>\n",
       "      <th>4</th>\n",
       "      <td>4</td>\n",
       "      <td>Бабенко LLC</td>\n",
       "      <td>Ганна</td>\n",
       "      <td>Байдужий заява болісно пити. Чітко зміна полюб...</td>\n",
       "      <td>5</td>\n",
       "      <td>NaN</td>\n",
       "      <td>Залізне</td>\n",
       "      <td>10</td>\n",
       "    </tr>\n",
       "    <tr>\n",
       "      <th>5</th>\n",
       "      <td>5</td>\n",
       "      <td>Демʼянчук Гузенко and Голик</td>\n",
       "      <td>Анастасія</td>\n",
       "      <td>Конструкція взагалі так угодний вмирати вовк п...</td>\n",
       "      <td>5</td>\n",
       "      <td>NaN</td>\n",
       "      <td>Угнів</td>\n",
       "      <td>13</td>\n",
       "    </tr>\n",
       "    <tr>\n",
       "      <th>6</th>\n",
       "      <td>6</td>\n",
       "      <td>Дробаха-Шелест</td>\n",
       "      <td>Камілла</td>\n",
       "      <td>Виникнення пропадати за житель полум'я трубка ...</td>\n",
       "      <td>5</td>\n",
       "      <td>NaN</td>\n",
       "      <td>Почаїв</td>\n",
       "      <td>24</td>\n",
       "    </tr>\n",
       "    <tr>\n",
       "      <th>7</th>\n",
       "      <td>7</td>\n",
       "      <td>Карась Ltd</td>\n",
       "      <td>Світлана</td>\n",
       "      <td>Ставити ремінь кордон гроші викинути. Рішення ...</td>\n",
       "      <td>5</td>\n",
       "      <td>NaN</td>\n",
       "      <td>Заставна</td>\n",
       "      <td>13</td>\n",
       "    </tr>\n",
       "    <tr>\n",
       "      <th>8</th>\n",
       "      <td>8</td>\n",
       "      <td>Єсипенко Деряжний and Дерегус</td>\n",
       "      <td>Анастасія</td>\n",
       "      <td>Здригнутися виблискувати співрозмовник підлога...</td>\n",
       "      <td>5</td>\n",
       "      <td>NaN</td>\n",
       "      <td>Новий Розділ</td>\n",
       "      <td>22</td>\n",
       "    </tr>\n",
       "    <tr>\n",
       "      <th>9</th>\n",
       "      <td>9</td>\n",
       "      <td>Ребрик-Дейнеко</td>\n",
       "      <td>Анжела</td>\n",
       "      <td>Жити засунути природа важливий витримати ділов...</td>\n",
       "      <td>5</td>\n",
       "      <td>NaN</td>\n",
       "      <td>Липовець</td>\n",
       "      <td>16</td>\n",
       "    </tr>\n",
       "  </tbody>\n",
       "</table>\n",
       "</div>"
      ],
      "text/plain": [
       "   id                           name reviewer_name  \\\n",
       "0   0   Жаліло Данильчук and Копитко        Дарина   \n",
       "1   1  Ярема Зінкевич and Медведенко         Ярина   \n",
       "2   2               Вдовиченко Group        Руслан   \n",
       "3   3           Василенко-Онуфрієнко        Демʼян   \n",
       "4   4                    Бабенко LLC         Ганна   \n",
       "5   5    Демʼянчук Гузенко and Голик     Анастасія   \n",
       "6   6                 Дробаха-Шелест       Камілла   \n",
       "7   7                     Карась Ltd      Світлана   \n",
       "8   8  Єсипенко Деряжний and Дерегус     Анастасія   \n",
       "9   9                 Ребрик-Дейнеко        Анжела   \n",
       "\n",
       "                                         review_text  rating last_visit_date  \\\n",
       "0  Груди салон єврейський робочий розвернутися. П...       5             NaN   \n",
       "1  Важкий знаходити простір взагалі перебивати по...       5             NaN   \n",
       "2  Зрозумілий здригнутися матерія в'язниця констр...       5             NaN   \n",
       "3  Пропадати термін прохід грати багряний художні...       5             NaN   \n",
       "4  Байдужий заява болісно пити. Чітко зміна полюб...       5             NaN   \n",
       "5  Конструкція взагалі так угодний вмирати вовк п...       5             NaN   \n",
       "6  Виникнення пропадати за житель полум'я трубка ...       5             NaN   \n",
       "7  Ставити ремінь кордон гроші викинути. Рішення ...       5             NaN   \n",
       "8  Здригнутися виблискувати співрозмовник підлога...       5             NaN   \n",
       "9  Жити засунути природа важливий витримати ділов...       5             NaN   \n",
       "\n",
       "                     city  review_length  \n",
       "0                Гребінка             16  \n",
       "1  Корсунь-Шевченківський             16  \n",
       "2                 Ананьїв             13  \n",
       "3               Таврійськ             25  \n",
       "4                 Залізне             10  \n",
       "5                   Угнів             13  \n",
       "6                  Почаїв             24  \n",
       "7                Заставна             13  \n",
       "8            Новий Розділ             22  \n",
       "9                Липовець             16  "
      ]
     },
     "execution_count": 153,
     "metadata": {},
     "output_type": "execute_result"
    }
   ],
   "source": [
    "df['review_length'] = df['review_text'].apply(lambda x: len(x.split()))\n",
    "\n",
    "df.head(10)"
   ]
  },
  {
   "cell_type": "markdown",
   "id": "36d41716",
   "metadata": {},
   "source": [
    "# 5.Data Analysis Tasks"
   ]
  },
  {
   "cell_type": "code",
   "execution_count": 154,
   "id": "11bee577d91644c9",
   "metadata": {
    "ExecuteTime": {
     "end_time": "2024-02-20T18:21:49.849992Z",
     "start_time": "2024-02-20T18:21:49.844430Z"
    },
    "collapsed": false
   },
   "outputs": [
    {
     "data": {
      "text/plain": [
       "name\n",
       "Євдокименко-Калениченко    3.0\n",
       "Євтушенко-Шиян             5.0\n",
       "Єресько PLC                5.0\n",
       "Єрмоленко-Ґоляш            4.0\n",
       "Єрошенко and Sons          5.0\n",
       "Name: rating, dtype: float64"
      ]
     },
     "execution_count": 154,
     "metadata": {},
     "output_type": "execute_result"
    }
   ],
   "source": [
    "df.groupby('name')['rating'].mean().head(5)\n"
   ]
  },
  {
   "cell_type": "code",
   "execution_count": 155,
   "id": "2a60b25328896b68",
   "metadata": {
    "ExecuteTime": {
     "end_time": "2024-02-20T18:22:55.677221Z",
     "start_time": "2024-02-20T18:22:55.671103Z"
    },
    "collapsed": false
   },
   "outputs": [
    {
     "data": {
      "text/plain": [
       "reviewer_name\n",
       "Єва          3.0\n",
       "Єлисавета    4.2\n",
       "Єлисей       5.0\n",
       "Єфрем        4.0\n",
       "Іван         5.0\n",
       "            ... \n",
       "Яків         5.0\n",
       "Ярема        5.0\n",
       "Ярина        4.0\n",
       "Ярослав      5.0\n",
       "Ярослава     4.8\n",
       "Name: rating, Length: 166, dtype: float64"
      ]
     },
     "execution_count": 155,
     "metadata": {},
     "output_type": "execute_result"
    }
   ],
   "source": [
    "df.groupby('reviewer_name')['rating'].mean()"
   ]
  },
  {
   "cell_type": "code",
   "execution_count": 156,
   "id": "83ef1c1725be96ed",
   "metadata": {
    "collapsed": false
   },
   "outputs": [
    {
     "data": {
      "text/plain": [
       "reviewer_name\n",
       "Ганна        4.900000\n",
       "Орина        4.888889\n",
       "Анастасія    4.888889\n",
       "Богуслава    4.555556\n",
       "Софія        3.875000\n",
       "Name: rating, dtype: float64"
      ]
     },
     "execution_count": 156,
     "metadata": {},
     "output_type": "execute_result"
    }
   ],
   "source": [
    "df.groupby('reviewer_name')['rating'].mean().loc[df['reviewer_name'].value_counts().head(5).index]"
   ]
  },
  {
   "cell_type": "code",
   "execution_count": 158,
   "id": "ee2526f453754a10",
   "metadata": {
    "ExecuteTime": {
     "end_time": "2024-02-20T18:26:39.103944Z",
     "start_time": "2024-02-20T18:26:39.101629Z"
    },
    "collapsed": false
   },
   "outputs": [
    {
     "data": {
      "text/plain": [
       "last_visit_date\n",
       "2022-03-31    3.000000\n",
       "2022-04-30    3.666667\n",
       "2022-05-31    3.166667\n",
       "2022-06-30    3.285714\n",
       "2022-07-31    3.200000\n",
       "2022-08-31    4.250000\n",
       "2022-09-30    4.500000\n",
       "2022-10-31    3.333333\n",
       "2022-11-30    3.750000\n",
       "2022-12-31    3.333333\n",
       "2023-01-31    2.333333\n",
       "2023-02-28    2.500000\n",
       "2023-03-31    3.375000\n",
       "2023-04-30    2.666667\n",
       "2023-05-31    3.500000\n",
       "2023-06-30    3.000000\n",
       "2023-07-31    2.600000\n",
       "2023-08-31    3.428571\n",
       "2023-09-30    1.600000\n",
       "2023-10-31    2.600000\n",
       "2023-11-30    3.000000\n",
       "2023-12-31    2.833333\n",
       "2024-01-31    3.200000\n",
       "2024-02-29    2.833333\n",
       "Name: rating, dtype: float64"
      ]
     },
     "execution_count": 158,
     "metadata": {},
     "output_type": "execute_result"
    }
   ],
   "source": [
    "\n",
    "df['last_visit_date'] = pd.to_datetime(df['last_visit_date'])\n",
    "df.resample('ME', on='last_visit_date')['rating'].mean()"
   ]
  },
  {
   "cell_type": "code",
   "execution_count": 159,
   "id": "64d36dae9f6e683c",
   "metadata": {
    "ExecuteTime": {
     "end_time": "2024-02-20T18:26:48.241160Z",
     "start_time": "2024-02-20T18:26:48.236408Z"
    },
    "collapsed": false
   },
   "outputs": [
    {
     "data": {
      "text/plain": [
       "'Дрозд Ltd'"
      ]
     },
     "execution_count": 159,
     "metadata": {},
     "output_type": "execute_result"
    }
   ],
   "source": [
    "df['name'].value_counts().idxmax()\n"
   ]
  },
  {
   "cell_type": "code",
   "execution_count": 160,
   "id": "29c76f81b5e1098c",
   "metadata": {
    "ExecuteTime": {
     "end_time": "2024-02-20T18:27:26.422854Z",
     "start_time": "2024-02-20T18:27:26.415363Z"
    },
    "collapsed": false
   },
   "outputs": [
    {
     "data": {
      "text/plain": [
       "'Євпаторія'"
      ]
     },
     "execution_count": 160,
     "metadata": {},
     "output_type": "execute_result"
    }
   ],
   "source": [
    "df.groupby('city')['rating'].mean().idxmax()\n"
   ]
  },
  {
   "cell_type": "markdown",
   "id": "861128de",
   "metadata": {},
   "source": [
    "# 6.Exporting Results"
   ]
  },
  {
   "cell_type": "code",
   "execution_count": 172,
   "id": "1d2ccb65",
   "metadata": {},
   "outputs": [],
   "source": [
    "df.to_csv('restaurant_review.csv')"
   ]
  }
 ],
 "metadata": {
  "kernelspec": {
   "display_name": "Python 3 (ipykernel)",
   "language": "python",
   "name": "python3"
  },
  "language_info": {
   "codemirror_mode": {
    "name": "ipython",
    "version": 3
   },
   "file_extension": ".py",
   "mimetype": "text/x-python",
   "name": "python",
   "nbconvert_exporter": "python",
   "pygments_lexer": "ipython3",
   "version": "3.11.4"
  }
 },
 "nbformat": 4,
 "nbformat_minor": 5
}
