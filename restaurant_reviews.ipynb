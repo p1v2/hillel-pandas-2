{
 "cells": [
  {
   "cell_type": "markdown",
   "id": "c2550340f8a64233",
   "metadata": {
    "collapsed": false,
    "jupyter": {
     "outputs_hidden": false
    }
   },
   "source": [
    "# Restaurant Reviews Dataset Project\n",
    "\n",
    "This project involves generating a dataset of restaurant reviews using the `faker` library, performing exploratory data analysis, cleaning the data, engineering features, analyzing the data, and (optionally) visualizing the findings. The end goal is to gain insights into restaurant ratings and reviewer behaviors.\n",
    "\n",
    "## Setup and Dataset Generation\n",
    "\n",
    "First, we need to install the necessary libraries and generate our dataset using `faker`. The dataset will include restaurant names, reviewer names, review texts, ratings, dates of visit, and locations."
   ]
  },
  {
   "cell_type": "code",
   "execution_count": 24,
   "id": "54d48d921cecc193",
   "metadata": {
    "collapsed": false,
    "jupyter": {
     "outputs_hidden": false
    }
   },
   "outputs": [],
   "source": [
    "import pandas as pd\n",
    "from faker import Faker\n",
    "import random\n",
    "import seaborn as sns\n",
    "import matplotlib.pyplot as plt\n",
    "\n",
    "# Initialize Faker and generate the dataset\n",
    "fake = Faker()\n",
    "\n",
    "data = []\n",
    "for _ in range(500):\n",
    "    date_of_visit = fake.date_between(start_date='-2y', end_date='today')\n",
    "    date_of_review = fake.date_between(start_date=date_of_visit, end_date='today')\n",
    "    data.append({\n",
    "        \"Restaurant Name\": fake.company(),\n",
    "        \"Reviewer Name\": fake.name(),\n",
    "        \"Review Text\": fake.text(max_nb_chars=200),  # Keep reviews concise\n",
    "        \"Rating\": random.randint(1, 5),\n",
    "        \"Date of Visit\": date_of_visit,\n",
    "        \"Date of Review\": date_of_review,\n",
    "        \"Location\": fake.city()\n",
    "    })\n",
    "\n",
    "df = pd.DataFrame(data)\n",
    "df.to_csv('restaurant_reviews.csv', index=False)\n"
   ]
  },
  {
   "cell_type": "markdown",
   "id": "b4a0c6796957b410",
   "metadata": {
    "collapsed": false,
    "jupyter": {
     "outputs_hidden": false
    }
   },
   "source": [
    "## As per task description, we must re-read the dataset from the file"
   ]
  },
  {
   "cell_type": "code",
   "execution_count": 25,
   "id": "aa75f80373553fd7",
   "metadata": {
    "collapsed": false,
    "jupyter": {
     "outputs_hidden": false
    }
   },
   "outputs": [],
   "source": [
    "df = pd.read_csv('restaurant_reviews.csv')"
   ]
  },
  {
   "cell_type": "markdown",
   "id": "65b5f821d27da5d2",
   "metadata": {
    "collapsed": false,
    "jupyter": {
     "outputs_hidden": false
    }
   },
   "source": [
    "## Data Exploration\n",
    "\n",
    "Let's start by getting a feel for the data. We will display the first ten rows and then print summary statistics for the numerical columns."
   ]
  },
  {
   "cell_type": "code",
   "execution_count": 26,
   "id": "868f357884110047",
   "metadata": {
    "collapsed": false,
    "jupyter": {
     "outputs_hidden": false
    }
   },
   "outputs": [
    {
     "data": {
      "text/html": [
       "<div>\n",
       "<style scoped>\n",
       "    .dataframe tbody tr th:only-of-type {\n",
       "        vertical-align: middle;\n",
       "    }\n",
       "\n",
       "    .dataframe tbody tr th {\n",
       "        vertical-align: top;\n",
       "    }\n",
       "\n",
       "    .dataframe thead th {\n",
       "        text-align: right;\n",
       "    }\n",
       "</style>\n",
       "<table border=\"1\" class=\"dataframe\">\n",
       "  <thead>\n",
       "    <tr style=\"text-align: right;\">\n",
       "      <th></th>\n",
       "      <th>Restaurant Name</th>\n",
       "      <th>Reviewer Name</th>\n",
       "      <th>Review Text</th>\n",
       "      <th>Rating</th>\n",
       "      <th>Date of Visit</th>\n",
       "      <th>Date of Review</th>\n",
       "      <th>Location</th>\n",
       "    </tr>\n",
       "  </thead>\n",
       "  <tbody>\n",
       "    <tr>\n",
       "      <th>0</th>\n",
       "      <td>Murphy Ltd</td>\n",
       "      <td>Jonathan Hernandez</td>\n",
       "      <td>Themselves several front certain create avoid....</td>\n",
       "      <td>1</td>\n",
       "      <td>2022-08-23</td>\n",
       "      <td>2023-05-03</td>\n",
       "      <td>Clarkburgh</td>\n",
       "    </tr>\n",
       "    <tr>\n",
       "      <th>1</th>\n",
       "      <td>Norris and Sons</td>\n",
       "      <td>Kevin Henderson</td>\n",
       "      <td>Chance require north produce. Road institution...</td>\n",
       "      <td>3</td>\n",
       "      <td>2024-01-20</td>\n",
       "      <td>2024-02-07</td>\n",
       "      <td>Lynnfort</td>\n",
       "    </tr>\n",
       "    <tr>\n",
       "      <th>2</th>\n",
       "      <td>Kim, Mcguire and Lee</td>\n",
       "      <td>Bianca Martin</td>\n",
       "      <td>Open half her common chance. Room able authori...</td>\n",
       "      <td>3</td>\n",
       "      <td>2022-04-25</td>\n",
       "      <td>2023-06-28</td>\n",
       "      <td>East Suzanne</td>\n",
       "    </tr>\n",
       "    <tr>\n",
       "      <th>3</th>\n",
       "      <td>Rodriguez Group</td>\n",
       "      <td>Cindy Clay</td>\n",
       "      <td>Rise toward project maintain decade wide.\\nMan...</td>\n",
       "      <td>2</td>\n",
       "      <td>2023-06-28</td>\n",
       "      <td>2023-07-12</td>\n",
       "      <td>Crystaltown</td>\n",
       "    </tr>\n",
       "    <tr>\n",
       "      <th>4</th>\n",
       "      <td>Moore-Castillo</td>\n",
       "      <td>Angela Brock</td>\n",
       "      <td>Beat help outside beyond it animal.\\nCard each...</td>\n",
       "      <td>5</td>\n",
       "      <td>2023-01-28</td>\n",
       "      <td>2023-07-04</td>\n",
       "      <td>West Juliefurt</td>\n",
       "    </tr>\n",
       "    <tr>\n",
       "      <th>5</th>\n",
       "      <td>Carlson-Davis</td>\n",
       "      <td>Barbara Rodriguez</td>\n",
       "      <td>Movie second certainly probably own figure sev...</td>\n",
       "      <td>3</td>\n",
       "      <td>2023-01-26</td>\n",
       "      <td>2023-09-14</td>\n",
       "      <td>Salazartown</td>\n",
       "    </tr>\n",
       "    <tr>\n",
       "      <th>6</th>\n",
       "      <td>Wong, Hodges and Parsons</td>\n",
       "      <td>Carla Marshall</td>\n",
       "      <td>Traditional color loss shake. Girl relate retu...</td>\n",
       "      <td>4</td>\n",
       "      <td>2024-01-03</td>\n",
       "      <td>2024-02-19</td>\n",
       "      <td>South Jacqueline</td>\n",
       "    </tr>\n",
       "    <tr>\n",
       "      <th>7</th>\n",
       "      <td>Edwards-Nguyen</td>\n",
       "      <td>Ryan Combs</td>\n",
       "      <td>Magazine president statement everything genera...</td>\n",
       "      <td>3</td>\n",
       "      <td>2022-03-22</td>\n",
       "      <td>2022-11-28</td>\n",
       "      <td>New Vanessa</td>\n",
       "    </tr>\n",
       "    <tr>\n",
       "      <th>8</th>\n",
       "      <td>Howard, Rich and Jones</td>\n",
       "      <td>Elaine Duarte</td>\n",
       "      <td>Beat during news drive exactly century. Tradit...</td>\n",
       "      <td>3</td>\n",
       "      <td>2022-11-03</td>\n",
       "      <td>2023-06-30</td>\n",
       "      <td>Raychester</td>\n",
       "    </tr>\n",
       "    <tr>\n",
       "      <th>9</th>\n",
       "      <td>Evans LLC</td>\n",
       "      <td>Aimee Jones</td>\n",
       "      <td>Air hour attention perhaps. Among address appl...</td>\n",
       "      <td>4</td>\n",
       "      <td>2022-11-11</td>\n",
       "      <td>2024-01-04</td>\n",
       "      <td>West Robertfort</td>\n",
       "    </tr>\n",
       "  </tbody>\n",
       "</table>\n",
       "</div>"
      ],
      "text/plain": [
       "            Restaurant Name       Reviewer Name  \\\n",
       "0                Murphy Ltd  Jonathan Hernandez   \n",
       "1           Norris and Sons     Kevin Henderson   \n",
       "2      Kim, Mcguire and Lee       Bianca Martin   \n",
       "3           Rodriguez Group          Cindy Clay   \n",
       "4            Moore-Castillo        Angela Brock   \n",
       "5             Carlson-Davis   Barbara Rodriguez   \n",
       "6  Wong, Hodges and Parsons      Carla Marshall   \n",
       "7            Edwards-Nguyen          Ryan Combs   \n",
       "8    Howard, Rich and Jones       Elaine Duarte   \n",
       "9                 Evans LLC         Aimee Jones   \n",
       "\n",
       "                                         Review Text  Rating Date of Visit  \\\n",
       "0  Themselves several front certain create avoid....       1    2022-08-23   \n",
       "1  Chance require north produce. Road institution...       3    2024-01-20   \n",
       "2  Open half her common chance. Room able authori...       3    2022-04-25   \n",
       "3  Rise toward project maintain decade wide.\\nMan...       2    2023-06-28   \n",
       "4  Beat help outside beyond it animal.\\nCard each...       5    2023-01-28   \n",
       "5  Movie second certainly probably own figure sev...       3    2023-01-26   \n",
       "6  Traditional color loss shake. Girl relate retu...       4    2024-01-03   \n",
       "7  Magazine president statement everything genera...       3    2022-03-22   \n",
       "8  Beat during news drive exactly century. Tradit...       3    2022-11-03   \n",
       "9  Air hour attention perhaps. Among address appl...       4    2022-11-11   \n",
       "\n",
       "  Date of Review          Location  \n",
       "0     2023-05-03        Clarkburgh  \n",
       "1     2024-02-07          Lynnfort  \n",
       "2     2023-06-28      East Suzanne  \n",
       "3     2023-07-12       Crystaltown  \n",
       "4     2023-07-04    West Juliefurt  \n",
       "5     2023-09-14       Salazartown  \n",
       "6     2024-02-19  South Jacqueline  \n",
       "7     2022-11-28       New Vanessa  \n",
       "8     2023-06-30        Raychester  \n",
       "9     2024-01-04   West Robertfort  "
      ]
     },
     "execution_count": 26,
     "metadata": {},
     "output_type": "execute_result"
    }
   ],
   "source": [
    "# Display the first 10 rows of the dataset\n",
    "df.head(10)"
   ]
  },
  {
   "cell_type": "code",
   "execution_count": 27,
   "id": "5849bf5fe47f5adf",
   "metadata": {
    "collapsed": false,
    "jupyter": {
     "outputs_hidden": false
    }
   },
   "outputs": [
    {
     "data": {
      "text/html": [
       "<div>\n",
       "<style scoped>\n",
       "    .dataframe tbody tr th:only-of-type {\n",
       "        vertical-align: middle;\n",
       "    }\n",
       "\n",
       "    .dataframe tbody tr th {\n",
       "        vertical-align: top;\n",
       "    }\n",
       "\n",
       "    .dataframe thead th {\n",
       "        text-align: right;\n",
       "    }\n",
       "</style>\n",
       "<table border=\"1\" class=\"dataframe\">\n",
       "  <thead>\n",
       "    <tr style=\"text-align: right;\">\n",
       "      <th></th>\n",
       "      <th>Rating</th>\n",
       "    </tr>\n",
       "  </thead>\n",
       "  <tbody>\n",
       "    <tr>\n",
       "      <th>count</th>\n",
       "      <td>500.000000</td>\n",
       "    </tr>\n",
       "    <tr>\n",
       "      <th>mean</th>\n",
       "      <td>3.020000</td>\n",
       "    </tr>\n",
       "    <tr>\n",
       "      <th>std</th>\n",
       "      <td>1.412654</td>\n",
       "    </tr>\n",
       "    <tr>\n",
       "      <th>min</th>\n",
       "      <td>1.000000</td>\n",
       "    </tr>\n",
       "    <tr>\n",
       "      <th>25%</th>\n",
       "      <td>2.000000</td>\n",
       "    </tr>\n",
       "    <tr>\n",
       "      <th>50%</th>\n",
       "      <td>3.000000</td>\n",
       "    </tr>\n",
       "    <tr>\n",
       "      <th>75%</th>\n",
       "      <td>4.000000</td>\n",
       "    </tr>\n",
       "    <tr>\n",
       "      <th>max</th>\n",
       "      <td>5.000000</td>\n",
       "    </tr>\n",
       "  </tbody>\n",
       "</table>\n",
       "</div>"
      ],
      "text/plain": [
       "           Rating\n",
       "count  500.000000\n",
       "mean     3.020000\n",
       "std      1.412654\n",
       "min      1.000000\n",
       "25%      2.000000\n",
       "50%      3.000000\n",
       "75%      4.000000\n",
       "max      5.000000"
      ]
     },
     "execution_count": 27,
     "metadata": {},
     "output_type": "execute_result"
    }
   ],
   "source": [
    "# Summary statistics for the numerical columns\n",
    "df.describe()"
   ]
  },
  {
   "cell_type": "markdown",
   "id": "da4d6ca12c569d9a",
   "metadata": {
    "collapsed": false,
    "jupyter": {
     "outputs_hidden": false
    }
   },
   "source": [
    "## Data Cleaning\n",
    "\n",
    "We'll check for any missing values in our dataset and ensure all ratings fall within the 1 to 5 range, adjusting them if necessary."
   ]
  },
  {
   "cell_type": "code",
   "execution_count": 28,
   "id": "f22f0a958270260f",
   "metadata": {
    "collapsed": false,
    "jupyter": {
     "outputs_hidden": false
    }
   },
   "outputs": [
    {
     "name": "stdout",
     "output_type": "stream",
     "text": [
      "Restaurant Name    0\n",
      "Reviewer Name      0\n",
      "Review Text        0\n",
      "Rating             0\n",
      "Date of Visit      0\n",
      "Date of Review     0\n",
      "Location           0\n",
      "dtype: int64\n"
     ]
    }
   ],
   "source": [
    "# Check for any missing values\n",
    "print(df.isnull().sum())\n",
    "\n",
    "# Ensure ratings are within the 1 to 5 range\n",
    "df['Rating'] = df['Rating'].clip(1, 5)\n"
   ]
  },
  {
   "cell_type": "markdown",
   "id": "f070db3bf248a565",
   "metadata": {
    "collapsed": false,
    "jupyter": {
     "outputs_hidden": false
    }
   },
   "source": [
    "## Feature Engineering\n",
    "\n",
    "To potentially uncover more insights, we'll add a new column that calculates the length of each review."
   ]
  },
  {
   "cell_type": "code",
   "execution_count": 29,
   "id": "8212c7eae3dc6502",
   "metadata": {
    "collapsed": false,
    "jupyter": {
     "outputs_hidden": false
    }
   },
   "outputs": [],
   "source": [
    "# Create a new column \"Review Length\"\n",
    "df['Review Length'] = df['Review Text'].apply(lambda x: len(x.split()))"
   ]
  },
  {
   "cell_type": "markdown",
   "id": "1cf48e6d730c763b",
   "metadata": {
    "collapsed": false,
    "jupyter": {
     "outputs_hidden": false
    }
   },
   "source": [
    "## Data Analysis tasks:"
   ]
  },
  {
   "cell_type": "code",
   "execution_count": 30,
   "id": "d74fec86d9c0c57",
   "metadata": {
    "collapsed": false,
    "jupyter": {
     "outputs_hidden": false
    }
   },
   "outputs": [
    {
     "name": "stdout",
     "output_type": "stream",
     "text": [
      "Restaurant Name\n",
      "Young Group                    5.0\n",
      "Rodriguez-Morgan               5.0\n",
      "Doyle-Collins                  5.0\n",
      "Moore-Castillo                 5.0\n",
      "Moreno, Taylor and Jones       5.0\n",
      "Mosley-Kramer                  5.0\n",
      "Murphy-Johnson                 5.0\n",
      "Murray, Martin and Bailey      5.0\n",
      "Norman, Clark and Rodriguez    5.0\n",
      "Norris Ltd                     5.0\n",
      "Name: Rating, dtype: float64\n"
     ]
    }
   ],
   "source": [
    "# Average rating for each restaurant\n",
    "average_ratings = df.groupby('Restaurant Name')['Rating'].mean().sort_values(ascending=False)\n",
    "print(average_ratings.head(10))"
   ]
  },
  {
   "cell_type": "code",
   "execution_count": 31,
   "id": "75cb6a8098daba3e",
   "metadata": {
    "collapsed": false,
    "jupyter": {
     "outputs_hidden": false
    }
   },
   "outputs": [
    {
     "name": "stdout",
     "output_type": "stream",
     "text": [
      "Reviewer Name\n",
      "Michael Davis        2\n",
      "Christopher Brown    2\n",
      "Daniel Murphy        2\n",
      "John Savage          1\n",
      "Robin Martin         1\n",
      "Name: count, dtype: int64\n"
     ]
    }
   ],
   "source": [
    "# 5 most frequent reviewers\n",
    "frequent_reviewers = df['Reviewer Name'].value_counts().head(5)\n",
    "print(frequent_reviewers)"
   ]
  },
  {
   "cell_type": "code",
   "execution_count": 32,
   "id": "e1b5ba07759d0abe",
   "metadata": {
    "collapsed": false,
    "jupyter": {
     "outputs_hidden": false
    }
   },
   "outputs": [
    {
     "name": "stdout",
     "output_type": "stream",
     "text": [
      "Year  Month\n",
      "2023  3        1.750000\n",
      "      4        2.538462\n",
      "      5        3.125000\n",
      "      6        3.043478\n",
      "      7        3.115385\n",
      "      8        3.133333\n",
      "      9        3.064516\n",
      "      10       2.756757\n",
      "      11       2.822222\n",
      "      12       3.047619\n",
      "2024  1        3.442308\n",
      "      2        3.051282\n",
      "      3        3.555556\n",
      "Name: Rating, dtype: float64\n"
     ]
    }
   ],
   "source": [
    "# Average rating per month (we take the last 12 months)\n",
    "\n",
    "df['Date of Review'] = pd.to_datetime(df['Date of Review'])\n",
    "max_date = df['Date of Review'].max()\n",
    "start_date = max_date - pd.DateOffset(months=12)\n",
    "df_filtered = df[(df['Date of Review'] > start_date) & (df['Date of Review'] <= max_date)].copy()\n",
    "df_filtered.loc[:, 'Year'] = df_filtered['Date of Review'].dt.year\n",
    "df_filtered.loc[:, 'Month'] = df_filtered['Date of Review'].dt.month\n",
    "average_monthly_rating = df_filtered.groupby(['Year', 'Month'])['Rating'].mean()\n",
    "print(average_monthly_rating)"
   ]
  },
  {
   "cell_type": "code",
   "execution_count": 33,
   "id": "c8339ff024e2a809",
   "metadata": {
    "collapsed": false,
    "jupyter": {
     "outputs_hidden": false
    }
   },
   "outputs": [
    {
     "name": "stdout",
     "output_type": "stream",
     "text": [
      "Murphy Ltd\n"
     ]
    }
   ],
   "source": [
    "# Restaurant with the most reviews\n",
    "most_reviews = df['Restaurant Name'].value_counts().idxmax()\n",
    "print(most_reviews)"
   ]
  },
  {
   "cell_type": "code",
   "execution_count": 34,
   "id": "335e95725da50510",
   "metadata": {
    "collapsed": false,
    "jupyter": {
     "outputs_hidden": false
    }
   },
   "outputs": [
    {
     "name": "stdout",
     "output_type": "stream",
     "text": [
      "The city with the highest average rating is Donnaborough, with an average rating of 5.00.\n"
     ]
    }
   ],
   "source": [
    "# Calculate the average rating for each city\n",
    "city_average_ratings = df.groupby('Location')['Rating'].mean().sort_values(ascending=False)\n",
    "\n",
    "# Display the city with the highest average rating\n",
    "highest_rated_city = city_average_ratings.idxmax()\n",
    "highest_rating = city_average_ratings.max()\n",
    "\n",
    "print(f\"The city with the highest average rating is {highest_rated_city}, with an average rating of {highest_rating:.2f}.\")\n"
   ]
  },
  {
   "cell_type": "markdown",
   "id": "d862eee55e0d2852",
   "metadata": {
    "collapsed": false,
    "jupyter": {
     "outputs_hidden": false
    }
   },
   "source": [
    "## Visualization (Optional)\n",
    "\n",
    "Visualizations can help us better understand the distribution of ratings and observe trends over time."
   ]
  },
  {
   "cell_type": "code",
   "execution_count": 35,
   "id": "74b4196445829e5e",
   "metadata": {
    "collapsed": false,
    "jupyter": {
     "outputs_hidden": false
    }
   },
   "outputs": [
    {
     "data": {
      "image/png": "[encoded data removed]",
      "text/plain": [
       "<Figure size 800x600 with 1 Axes>"
      ]
     },
     "metadata": {},
     "output_type": "display_data"
    }
   ],
   "source": [
    "# Set the aesthetic style of the plots\n",
    "sns.set_style(\"whitegrid\")\n",
    "\n",
    "# Plot distribution of ratings\n",
    "plt.figure(figsize=(8, 6))\n",
    "sns.countplot(x='Rating', data=df, color='coral')  # Use color instead of palette\n",
    "plt.title('Distribution of Ratings')\n",
    "plt.xlabel('Rating')\n",
    "plt.ylabel('Count')\n",
    "plt.show()"
   ]
  },
  {
   "cell_type": "code",
   "execution_count": 36,
   "id": "28d0b1c2deaa1797",
   "metadata": {
    "collapsed": false,
    "jupyter": {
     "outputs_hidden": false
    }
   },
   "outputs": [
    {
     "data": {
      "image/png": "[encoded data removed]",
      "text/plain": [
       "<Figure size 1200x600 with 1 Axes>"
      ]
     },
     "metadata": {},
     "output_type": "display_data"
    }
   ],
   "source": [
    "# Ensure 'Review Date' is a datetime type\n",
    "df['Date of Review'] = pd.to_datetime(df['Date of Review'])\n",
    "df['Month-Year'] = df['Date of Review'].dt.to_period('M')\n",
    "\n",
    "# Calculate the average rating per month-year\n",
    "monthly_avg_rating = df.groupby('Month-Year')['Rating'].mean().reset_index()\n",
    "monthly_avg_rating['Month-Year'] = monthly_avg_rating['Month-Year'].astype(str)  # For plotting\n",
    "\n",
    "plt.figure(figsize=(12, 6))\n",
    "sns.lineplot(x='Month-Year', y='Rating', data=monthly_avg_rating, marker='o', color='purple')\n",
    "plt.xticks(rotation=45)\n",
    "plt.title('Average Rating Per Month')\n",
    "plt.xlabel('Month-Year')\n",
    "plt.ylabel('Average Rating')\n",
    "plt.tight_layout()\n",
    "plt.show()"
   ]
  },
  {
   "cell_type": "markdown",
   "id": "1e1834c2aacfd29c",
   "metadata": {
    "collapsed": false,
    "jupyter": {
     "outputs_hidden": false
    }
   },
   "source": [
    "## Exporting Results\n",
    "\n",
    "Finally, we save our cleaned and manipulated DataFrame to a new CSV file for future use or further analysis."
   ]
  },
  {
   "cell_type": "code",
   "execution_count": 14,
   "id": "37840db9f424fda9",
   "metadata": {
    "collapsed": false,
    "jupyter": {
     "outputs_hidden": false
    }
   },
   "outputs": [],
   "source": [
    "df.to_csv('cleaned_restaurant_reviews.csv', index=False)"
   ]
  },
  {
   "cell_type": "markdown",
   "id": "9648a0f8c010a760",
   "metadata": {
    "collapsed": false,
    "jupyter": {
     "outputs_hidden": false
    }
   },
   "source": [
    "# Conclusion\n",
    "\n",
    "In this notebook, we've generated a synthetic dataset of restaurant reviews, conducted exploratory data analysis, cleaned the data, engineered features, and performed detailed analysis to understand the dynamics of restaurant ratings and reviewer behavior. This project demonstrates the power of Python and Pandas for data manipulation and analysis."
   ]
  }
 ],
 "metadata": {
  "kernelspec": {
   "display_name": "Python 3 (ipykernel)",
   "language": "python",
   "name": "python3"
  },
  "language_info": {
   "codemirror_mode": {
    "name": "ipython",
    "version": 3
   },
   "file_extension": ".py",
   "mimetype": "text/x-python",
   "name": "python",
   "nbconvert_exporter": "python",
   "pygments_lexer": "ipython3",
   "version": "3.12.1"
  }
 },
 "nbformat": 4,
 "nbformat_minor": 5
}
