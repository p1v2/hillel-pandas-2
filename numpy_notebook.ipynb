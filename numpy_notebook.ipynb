{
 "cells": [
  {
   "cell_type": "code",
   "execution_count": 1,
   "id": "initial_id",
   "metadata": {
    "ExecuteTime": {
     "end_time": "2024-02-20T17:26:56.765510Z",
     "start_time": "2024-02-20T17:26:56.686Z"
    },
    "collapsed": true
   },
   "outputs": [],
   "source": [
    "import numpy\n",
    "import numpy as np"
   ]
  },
  {
   "cell_type": "markdown",
   "id": "1226ce87cbd6ae83",
   "metadata": {
    "collapsed": false
   },
   "source": [
    "# 1. Create a 1D array of numbers from 0 to 9"
   ]
  },
  {
   "cell_type": "code",
   "execution_count": 3,
   "id": "648aa053200b116",
   "metadata": {
    "ExecuteTime": {
     "end_time": "2024-02-20T17:27:20.204234Z",
     "start_time": "2024-02-20T17:27:20.198640Z"
    },
    "collapsed": false
   },
   "outputs": [
    {
     "name": "stdout",
     "output_type": "stream",
     "text": [
      "[0 1 2 3 4 5 6 7 8 9]\n"
     ]
    }
   ],
   "source": [
    "arr = numpy.arange(10)\n",
    "print(arr)"
   ]
  },
  {
   "cell_type": "markdown",
   "id": "bab5c14c93a25cbd",
   "metadata": {
    "collapsed": false
   },
   "source": [
    "# 2. Calculate sum of the array"
   ]
  },
  {
   "cell_type": "code",
   "execution_count": 4,
   "id": "18678e204f563fd9",
   "metadata": {
    "ExecuteTime": {
     "end_time": "2024-02-20T17:27:29.386993Z",
     "start_time": "2024-02-20T17:27:29.383400Z"
    },
    "collapsed": false
   },
   "outputs": [
    {
     "name": "stdout",
     "output_type": "stream",
     "text": [
      "45\n"
     ]
    }
   ],
   "source": [
    "print(arr.sum())"
   ]
  },
  {
   "cell_type": "code",
   "execution_count": 5,
   "id": "ae4f00ef79b95a94",
   "metadata": {
    "ExecuteTime": {
     "end_time": "2024-02-20T17:27:36.654341Z",
     "start_time": "2024-02-20T17:27:36.647636Z"
    },
    "collapsed": false
   },
   "outputs": [
    {
     "name": "stdout",
     "output_type": "stream",
     "text": [
      "45\n"
     ]
    }
   ],
   "source": [
    "print(numpy.sum(arr))"
   ]
  },
  {
   "cell_type": "code",
   "execution_count": 6,
   "id": "c03c0e22dd5bdaa0",
   "metadata": {
    "ExecuteTime": {
     "end_time": "2024-02-20T17:28:34.166640Z",
     "start_time": "2024-02-20T17:28:34.161510Z"
    },
    "collapsed": false
   },
   "outputs": [
    {
     "name": "stdout",
     "output_type": "stream",
     "text": [
      "9\n",
      "0\n",
      "4.5\n",
      "2.8722813232690143\n"
     ]
    }
   ],
   "source": [
    "print(arr.max())\n",
    "print(arr.min())\n",
    "print(arr.mean())\n",
    "print(arr.std())\n"
   ]
  },
  {
   "cell_type": "code",
   "execution_count": null,
   "id": "d60afd2dcfac45f4",
   "metadata": {
    "collapsed": false
   },
   "outputs": [],
   "source": []
  },
  {
   "cell_type": "markdown",
   "id": "366e0a1702f469f0",
   "metadata": {
    "collapsed": false
   },
   "source": []
  },
  {
   "cell_type": "markdown",
   "id": "c8381fbe3dd0e7c",
   "metadata": {
    "collapsed": false
   },
   "source": [
    "# 3. Create a different array with random 10 numbers"
   ]
  },
  {
   "cell_type": "code",
   "execution_count": 8,
   "id": "37a3b34f4bba1644",
   "metadata": {
    "ExecuteTime": {
     "end_time": "2024-02-20T17:29:23.774109Z",
     "start_time": "2024-02-20T17:29:23.767768Z"
    },
    "collapsed": false
   },
   "outputs": [
    {
     "name": "stdout",
     "output_type": "stream",
     "text": [
      "[0.31693846 0.94522254 0.7670123  0.6227892  0.22252546 0.76788293\n",
      " 0.64312308 0.96165891 0.02387909 0.51081106]\n"
     ]
    }
   ],
   "source": [
    "arr2 = numpy.random.rand(10)\n",
    "print(arr2)"
   ]
  },
  {
   "cell_type": "markdown",
   "id": "792031608be04d6f",
   "metadata": {
    "collapsed": false
   },
   "source": [
    "# 4. Add arr and arr2"
   ]
  },
  {
   "cell_type": "code",
   "execution_count": 9,
   "id": "766e29aa403e9bfe",
   "metadata": {
    "ExecuteTime": {
     "end_time": "2024-02-20T17:29:55.023793Z",
     "start_time": "2024-02-20T17:29:55.021903Z"
    },
    "collapsed": false
   },
   "outputs": [
    {
     "name": "stdout",
     "output_type": "stream",
     "text": [
      "[0.31693846 1.94522254 2.7670123  3.6227892  4.22252546 5.76788293\n",
      " 6.64312308 7.96165891 8.02387909 9.51081106]\n"
     ]
    }
   ],
   "source": [
    "print(arr + arr2)"
   ]
  },
  {
   "cell_type": "code",
   "execution_count": null,
   "id": "21d20046a9ab1cbc",
   "metadata": {
    "collapsed": false
   },
   "outputs": [],
   "source": []
  },
  {
   "cell_type": "markdown",
   "id": "75413a69715fa5ec",
   "metadata": {
    "collapsed": false
   },
   "source": [
    "# 5. Scalar Product of arr and arr2"
   ]
  },
  {
   "cell_type": "code",
   "execution_count": 11,
   "id": "48b4d2599dc58c12",
   "metadata": {
    "ExecuteTime": {
     "end_time": "2024-02-20T17:32:25.815661Z",
     "start_time": "2024-02-20T17:32:25.813900Z"
    },
    "collapsed": false
   },
   "outputs": [
    {
     "name": "stdout",
     "output_type": "stream",
     "text": [
      "24.455814327491346\n"
     ]
    }
   ],
   "source": [
    "print(numpy.dot(arr, arr2))"
   ]
  },
  {
   "cell_type": "code",
   "execution_count": 12,
   "id": "8fb439bb538ae60",
   "metadata": {
    "ExecuteTime": {
     "end_time": "2024-02-20T17:33:27.404470Z",
     "start_time": "2024-02-20T17:33:27.401805Z"
    },
    "collapsed": false
   },
   "outputs": [
    {
     "name": "stdout",
     "output_type": "stream",
     "text": [
      "24.455814327491346\n"
     ]
    }
   ],
   "source": [
    "print(arr @ arr2)"
   ]
  },
  {
   "cell_type": "markdown",
   "id": "348ec2b8ec86ce67",
   "metadata": {
    "collapsed": false
   },
   "source": [
    "# dot = a1*b1 + a2*b2 + a3*b3 + a4*b4 + a5*b5 + a6*b6 + a7*b7 + a8*b8 + a9*b9 + a10*b10"
   ]
  },
  {
   "cell_type": "markdown",
   "id": "d3840d6947d65a7a",
   "metadata": {
    "collapsed": false
   },
   "source": [
    "# 6. Generate array with zeros"
   ]
  },
  {
   "cell_type": "code",
   "execution_count": 13,
   "id": "9daa7fbeb8d38d9d",
   "metadata": {
    "ExecuteTime": {
     "end_time": "2024-02-20T17:35:03.059798Z",
     "start_time": "2024-02-20T17:35:03.053832Z"
    },
    "collapsed": false
   },
   "outputs": [
    {
     "name": "stdout",
     "output_type": "stream",
     "text": [
      "[0. 0. 0. 0. 0. 0. 0. 0. 0. 0.]\n"
     ]
    }
   ],
   "source": [
    "arr3 = numpy.zeros(10)\n",
    "print(arr3)"
   ]
  },
  {
   "cell_type": "code",
   "execution_count": 14,
   "id": "5e2dd78583dcc83b",
   "metadata": {
    "ExecuteTime": {
     "end_time": "2024-02-20T17:35:15.166793Z",
     "start_time": "2024-02-20T17:35:15.163946Z"
    },
    "collapsed": false
   },
   "outputs": [
    {
     "name": "stdout",
     "output_type": "stream",
     "text": [
      "[[0. 0. 0.]\n",
      " [0. 0. 0.]\n",
      " [0. 0. 0.]]\n"
     ]
    }
   ],
   "source": [
    "arr4 = numpy.zeros((3, 3))\n",
    "print(arr4)"
   ]
  },
  {
   "cell_type": "code",
   "execution_count": null,
   "id": "4e28f0a8196271b7",
   "metadata": {
    "collapsed": false
   },
   "outputs": [],
   "source": []
  },
  {
   "cell_type": "markdown",
   "id": "998ba7649438f566",
   "metadata": {
    "collapsed": false
   },
   "source": [
    "# 7. Generate matrix"
   ]
  },
  {
   "cell_type": "code",
   "execution_count": 19,
   "id": "1c35cd15bc55a40a",
   "metadata": {
    "ExecuteTime": {
     "end_time": "2024-02-20T17:36:56.139701Z",
     "start_time": "2024-02-20T17:36:56.137268Z"
    },
    "collapsed": false
   },
   "outputs": [
    {
     "name": "stdout",
     "output_type": "stream",
     "text": [
      "[[0.18027331 0.36246097 0.98646054]\n",
      " [0.77836924 0.26897515 0.54933282]\n",
      " [0.13804065 0.22421617 0.39191315]]\n"
     ]
    }
   ],
   "source": [
    "matrix1 = numpy.random.rand(3, 3)\n",
    "print(matrix1)"
   ]
  },
  {
   "cell_type": "code",
   "execution_count": null,
   "id": "18ef3163dbe1eddc",
   "metadata": {
    "collapsed": false
   },
   "outputs": [],
   "source": []
  },
  {
   "cell_type": "markdown",
   "id": "d8225ad7724ac127",
   "metadata": {
    "collapsed": false
   },
   "source": [
    "# 8. Generate matrix with ones on the diagonal"
   ]
  },
  {
   "cell_type": "code",
   "execution_count": 17,
   "id": "4db7bdd4a0fa1f9f",
   "metadata": {
    "ExecuteTime": {
     "end_time": "2024-02-20T17:36:34.536942Z",
     "start_time": "2024-02-20T17:36:34.534463Z"
    },
    "collapsed": false
   },
   "outputs": [
    {
     "name": "stdout",
     "output_type": "stream",
     "text": [
      "[[1. 0. 0.]\n",
      " [0. 1. 0.]\n",
      " [0. 0. 1.]]\n"
     ]
    }
   ],
   "source": [
    "matrix2 = numpy.eye(3)\n",
    "print(matrix2)"
   ]
  },
  {
   "cell_type": "code",
   "execution_count": null,
   "id": "d4058bf6a8e5c2b7",
   "metadata": {
    "collapsed": false
   },
   "outputs": [],
   "source": []
  },
  {
   "cell_type": "markdown",
   "id": "736b8efab54bc360",
   "metadata": {
    "collapsed": false
   },
   "source": [
    "# 9. Transpose matrix"
   ]
  },
  {
   "cell_type": "code",
   "execution_count": 20,
   "id": "6a95c8820a889176",
   "metadata": {
    "ExecuteTime": {
     "end_time": "2024-02-20T17:36:59.460614Z",
     "start_time": "2024-02-20T17:36:59.458357Z"
    },
    "collapsed": false
   },
   "outputs": [
    {
     "name": "stdout",
     "output_type": "stream",
     "text": [
      "[[0.18027331 0.77836924 0.13804065]\n",
      " [0.36246097 0.26897515 0.22421617]\n",
      " [0.98646054 0.54933282 0.39191315]]\n"
     ]
    }
   ],
   "source": [
    "print(matrix1.T)"
   ]
  },
  {
   "cell_type": "code",
   "execution_count": null,
   "id": "739df3887d19cb1",
   "metadata": {
    "collapsed": false
   },
   "outputs": [],
   "source": []
  },
  {
   "cell_type": "code",
   "execution_count": null,
   "id": "3dea2c972f1dbea8",
   "metadata": {
    "collapsed": false
   },
   "outputs": [],
   "source": []
  },
  {
   "cell_type": "markdown",
   "id": "449fd97cde9f80aa",
   "metadata": {
    "collapsed": false
   },
   "source": [
    "# 10. Add matrixes"
   ]
  },
  {
   "cell_type": "code",
   "execution_count": 21,
   "id": "3b91b9e78dc9f102",
   "metadata": {
    "ExecuteTime": {
     "end_time": "2024-02-20T17:37:40.287756Z",
     "start_time": "2024-02-20T17:37:40.278962Z"
    },
    "collapsed": false
   },
   "outputs": [
    {
     "name": "stdout",
     "output_type": "stream",
     "text": [
      "[[1.18027331 0.36246097 0.98646054]\n",
      " [0.77836924 1.26897515 0.54933282]\n",
      " [0.13804065 0.22421617 1.39191315]]\n"
     ]
    }
   ],
   "source": [
    "print(matrix1 + matrix2)"
   ]
  },
  {
   "cell_type": "code",
   "execution_count": null,
   "id": "dd3d7df9b5aae719",
   "metadata": {
    "collapsed": false
   },
   "outputs": [],
   "source": []
  },
  {
   "cell_type": "markdown",
   "id": "2968ad17f85831d0",
   "metadata": {
    "collapsed": false
   },
   "source": [
    "# 11. Multiply matrixes"
   ]
  },
  {
   "cell_type": "code",
   "execution_count": 22,
   "id": "866da50ef7be1a17",
   "metadata": {
    "ExecuteTime": {
     "end_time": "2024-02-20T17:38:11.456215Z",
     "start_time": "2024-02-20T17:38:11.443491Z"
    },
    "collapsed": false
   },
   "outputs": [
    {
     "name": "stdout",
     "output_type": "stream",
     "text": [
      "[[0.18027331 0.36246097 0.98646054]\n",
      " [0.77836924 0.26897515 0.54933282]\n",
      " [0.13804065 0.22421617 0.39191315]]\n"
     ]
    }
   ],
   "source": [
    "print(matrix1 @ matrix2)"
   ]
  },
  {
   "cell_type": "code",
   "execution_count": null,
   "id": "a408220137153da8",
   "metadata": {
    "collapsed": false
   },
   "outputs": [],
   "source": []
  },
  {
   "cell_type": "markdown",
   "id": "421fd0202b18648",
   "metadata": {
    "collapsed": false
   },
   "source": [
    "# 12. Find matrix determinant"
   ]
  },
  {
   "cell_type": "code",
   "execution_count": 23,
   "id": "ab5abfaba39c6e14",
   "metadata": {
    "ExecuteTime": {
     "end_time": "2024-02-20T17:38:51.322292Z",
     "start_time": "2024-02-20T17:38:51.317088Z"
    },
    "collapsed": false
   },
   "outputs": [
    {
     "name": "stdout",
     "output_type": "stream",
     "text": [
      "0.049248242105876236\n"
     ]
    }
   ],
   "source": [
    "print(numpy.linalg.det(matrix1))"
   ]
  },
  {
   "cell_type": "code",
   "execution_count": 24,
   "id": "1170711ef57ae50f",
   "metadata": {
    "ExecuteTime": {
     "end_time": "2024-02-20T17:38:59.801758Z",
     "start_time": "2024-02-20T17:38:59.795911Z"
    },
    "collapsed": false
   },
   "outputs": [
    {
     "name": "stdout",
     "output_type": "stream",
     "text": [
      "1.0\n"
     ]
    }
   ],
   "source": [
    "print(numpy.linalg.det(matrix2))"
   ]
  },
  {
   "cell_type": "code",
   "execution_count": null,
   "id": "cc161ba204f75326",
   "metadata": {
    "collapsed": false
   },
   "outputs": [],
   "source": [
    "# 13. Find matrix inverse"
   ]
  },
  {
   "cell_type": "code",
   "execution_count": 25,
   "id": "dc102033dec125bf",
   "metadata": {
    "ExecuteTime": {
     "end_time": "2024-02-20T17:39:19.977219Z",
     "start_time": "2024-02-20T17:39:19.966719Z"
    },
    "collapsed": false
   },
   "outputs": [],
   "source": [
    "inversed = numpy.linalg.inv(matrix1)"
   ]
  },
  {
   "cell_type": "code",
   "execution_count": 26,
   "id": "e5a0df30d6d0ba55",
   "metadata": {
    "ExecuteTime": {
     "end_time": "2024-02-20T17:39:26.895299Z",
     "start_time": "2024-02-20T17:39:26.891812Z"
    },
    "collapsed": false
   },
   "outputs": [
    {
     "name": "stdout",
     "output_type": "stream",
     "text": [
      "[[-0.36050842  1.60670077 -1.34465031]\n",
      " [-4.65443775 -1.33040635 13.5801901 ]\n",
      " [ 2.78981466  0.19521826 -4.74411712]]\n"
     ]
    }
   ],
   "source": [
    "print(inversed)"
   ]
  },
  {
   "cell_type": "code",
   "execution_count": 27,
   "id": "f7db4d0dfd9dd88e",
   "metadata": {
    "ExecuteTime": {
     "end_time": "2024-02-20T17:39:35.415378Z",
     "start_time": "2024-02-20T17:39:35.407804Z"
    },
    "collapsed": false
   },
   "outputs": [
    {
     "name": "stdout",
     "output_type": "stream",
     "text": [
      "[[ 1.00000000e+00 -4.35242927e-18 -5.63464834e-16]\n",
      " [-1.59930441e-18  1.00000000e+00  2.01757727e-16]\n",
      " [-1.13288436e-16 -1.59478244e-17  1.00000000e+00]]\n"
     ]
    }
   ],
   "source": [
    "print(matrix1 @ inversed)"
   ]
  },
  {
   "cell_type": "code",
   "execution_count": null,
   "id": "6c1a16fe56573949",
   "metadata": {
    "collapsed": false
   },
   "outputs": [],
   "source": []
  },
  {
   "cell_type": "markdown",
   "id": "70fe4402ec189fbc",
   "metadata": {
    "collapsed": false
   },
   "source": [
    "# 14. Solve linear system"
   ]
  },
  {
   "cell_type": "markdown",
   "id": "d9179e26be09f853",
   "metadata": {
    "collapsed": false
   },
   "source": [
    "# 3x + 2y = 1\n",
    "# 4x + 5y = 2"
   ]
  },
  {
   "cell_type": "code",
   "execution_count": 28,
   "id": "d489f57fd7f62a57",
   "metadata": {
    "ExecuteTime": {
     "end_time": "2024-02-20T17:41:04.372506Z",
     "start_time": "2024-02-20T17:41:04.369809Z"
    },
    "collapsed": false
   },
   "outputs": [],
   "source": [
    "A = numpy.array([[3, 2], [4, 5]])\n",
    "B = numpy.array([1, 2])"
   ]
  },
  {
   "cell_type": "code",
   "execution_count": 29,
   "id": "b4d0d7115aaf24fa",
   "metadata": {
    "ExecuteTime": {
     "end_time": "2024-02-20T17:41:05.469445Z",
     "start_time": "2024-02-20T17:41:05.460315Z"
    },
    "collapsed": false
   },
   "outputs": [
    {
     "name": "stdout",
     "output_type": "stream",
     "text": [
      "[0.14285714 0.28571429]\n"
     ]
    }
   ],
   "source": [
    "print(numpy.linalg.solve(A, B))"
   ]
  },
  {
   "cell_type": "code",
   "execution_count": null,
   "id": "705adab989490ccf",
   "metadata": {
    "collapsed": false
   },
   "outputs": [],
   "source": []
  },
  {
   "cell_type": "markdown",
   "id": "2331cee0f497e3a2",
   "metadata": {
    "collapsed": false
   },
   "source": [
    "# 15. Solve quadratic equation"
   ]
  },
  {
   "cell_type": "markdown",
   "id": "9ca60904e42f2e78",
   "metadata": {
    "collapsed": false
   },
   "source": [
    "# x^2 - 4x + 3 = 0"
   ]
  },
  {
   "cell_type": "code",
   "execution_count": 30,
   "id": "3e36ef9cf8faba69",
   "metadata": {
    "ExecuteTime": {
     "end_time": "2024-02-20T17:44:26.027991Z",
     "start_time": "2024-02-20T17:44:26.012195Z"
    },
    "collapsed": false
   },
   "outputs": [
    {
     "name": "stdout",
     "output_type": "stream",
     "text": [
      "[3. 1.]\n"
     ]
    }
   ],
   "source": [
    "print(numpy.roots([1, -4, 3]))"
   ]
  },
  {
   "cell_type": "code",
   "execution_count": 31,
   "id": "9f2c42d06e0b43a0",
   "metadata": {
    "ExecuteTime": {
     "end_time": "2024-02-20T17:44:54.751619Z",
     "start_time": "2024-02-20T17:44:54.748542Z"
    },
    "collapsed": false
   },
   "outputs": [
    {
     "name": "stdout",
     "output_type": "stream",
     "text": [
      "[-2.80630072+0.j          0.90315036+0.50333133j  0.90315036-0.50333133j]\n"
     ]
    }
   ],
   "source": [
    "print(numpy.roots([1, 1, -4, 3]))"
   ]
  },
  {
   "cell_type": "markdown",
   "id": "5e303bd5e14746ca",
   "metadata": {
    "collapsed": false
   },
   "source": [
    "# 16. Find eigenvalues and eigenvectors"
   ]
  },
  {
   "cell_type": "code",
   "execution_count": 32,
   "id": "625b8550e5539c8b",
   "metadata": {
    "ExecuteTime": {
     "end_time": "2024-02-20T17:45:49.867034Z",
     "start_time": "2024-02-20T17:45:49.851767Z"
    },
    "collapsed": false
   },
   "outputs": [],
   "source": [
    "eigenvalues, eigenvectors = numpy.linalg.eig(matrix1)"
   ]
  },
  {
   "cell_type": "code",
   "execution_count": 33,
   "id": "e52885986c5dc07b",
   "metadata": {
    "ExecuteTime": {
     "end_time": "2024-02-20T17:45:56.146992Z",
     "start_time": "2024-02-20T17:45:56.141626Z"
    },
    "collapsed": false
   },
   "outputs": [
    {
     "name": "stdout",
     "output_type": "stream",
     "text": [
      "[ 1.15305158+0.j         -0.15594499+0.13561852j -0.15594499-0.13561852j]\n"
     ]
    }
   ],
   "source": [
    "print(eigenvalues)"
   ]
  },
  {
   "cell_type": "code",
   "execution_count": null,
   "id": "92ad0d29fa9d55fc",
   "metadata": {
    "collapsed": false
   },
   "outputs": [],
   "source": []
  },
  {
   "cell_type": "markdown",
   "id": "60d1c7b59b875918",
   "metadata": {
    "collapsed": false
   },
   "source": [
    "# Власні числа (Eigenvalues)\n",
    "Власне число матриці \n",
    "�\n",
    "A - це скаляр \n",
    "�\n",
    "λ, який задовольняє рівняння \n",
    "�\n",
    "�\n",
    "=\n",
    "�\n",
    "�\n",
    "Av=λv, де \n",
    "�\n",
    "v - це ненульовий вектор. Іншими словами, коли матриця \n",
    "�\n",
    "A діє на вектор \n",
    "�\n",
    "v, результатом є масштабований вектор, який є паралельним до \n",
    "�\n",
    "v, і \n",
    "�\n",
    "λ є масштабувальним фактором.\n",
    "\n",
    "Власні вектори (Eigenvectors)\n",
    "Власний вектор \n",
    "�\n",
    "v матриці \n",
    "�\n",
    "A - це ненульовий вектор, який, коли множиться на матрицю \n",
    "�\n",
    "A, просто масштабується на власне число \n",
    "�\n",
    "λ, тобто \n",
    "�\n",
    "�\n",
    "=\n",
    "�\n",
    "�\n",
    "Av=λv. Власні вектори вказують напрямки, в яких застосування матриці \n",
    "�\n",
    "A просто \"витягує\" або \"стискає\" вектор, замість того, щоб змінити його напрямок."
   ]
  },
  {
   "cell_type": "code",
   "execution_count": 35,
   "id": "3b5664d3995a8e67",
   "metadata": {
    "ExecuteTime": {
     "end_time": "2024-02-20T17:47:57.293616Z",
     "start_time": "2024-02-20T17:47:57.278383Z"
    },
    "collapsed": false
   },
   "outputs": [],
   "source": [
    "array = numpy.array([[1, 2, 3, 4]])"
   ]
  },
  {
   "cell_type": "markdown",
   "id": "465754c3a500d800",
   "metadata": {
    "collapsed": false
   },
   "source": [
    "# 17. Filter values which is more that 2"
   ]
  },
  {
   "cell_type": "code",
   "execution_count": 36,
   "id": "9591d04aece21754",
   "metadata": {
    "ExecuteTime": {
     "end_time": "2024-02-20T17:47:58.484124Z",
     "start_time": "2024-02-20T17:47:58.479935Z"
    },
    "collapsed": false
   },
   "outputs": [
    {
     "name": "stdout",
     "output_type": "stream",
     "text": [
      "[3 4]\n"
     ]
    }
   ],
   "source": [
    "print(array[array > 2])"
   ]
  },
  {
   "cell_type": "code",
   "execution_count": 37,
   "id": "585a03124208141d",
   "metadata": {
    "ExecuteTime": {
     "end_time": "2024-02-20T17:48:16.126100Z",
     "start_time": "2024-02-20T17:48:16.116145Z"
    },
    "collapsed": false
   },
   "outputs": [],
   "source": [
    "# 18. Find index of max value"
   ]
  },
  {
   "cell_type": "code",
   "execution_count": 38,
   "id": "1b5f3fb1d3a520e1",
   "metadata": {
    "ExecuteTime": {
     "end_time": "2024-02-20T17:48:19.257749Z",
     "start_time": "2024-02-20T17:48:19.241750Z"
    },
    "collapsed": false
   },
   "outputs": [
    {
     "name": "stdout",
     "output_type": "stream",
     "text": [
      "3\n"
     ]
    }
   ],
   "source": [
    "print(numpy.argmax(array))"
   ]
  },
  {
   "cell_type": "code",
   "execution_count": null,
   "id": "e65749397c5425f8",
   "metadata": {
    "collapsed": false
   },
   "outputs": [],
   "source": []
  }
 ],
 "metadata": {
  "kernelspec": {
   "display_name": "Python 3",
   "language": "python",
   "name": "python3"
  },
  "language_info": {
   "codemirror_mode": {
    "name": "ipython",
    "version": 3
   },
   "file_extension": ".py",
   "mimetype": "text/x-python",
   "name": "python",
   "nbconvert_exporter": "python",
   "pygments_lexer": "ipython3",
   "version": "3.11.4"
  }
 },
 "nbformat": 4,
 "nbformat_minor": 5
}
